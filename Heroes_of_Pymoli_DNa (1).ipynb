{
 "cells": [
  {
   "cell_type": "markdown",
   "metadata": {},
   "source": [
    "### Heroes Of Pymoli Data Analysis\n",
    "* Of the 1163 active players, the vast majority are male (84%). There also exists, a smaller, but notable proportion of female players (14%).\n",
    "\n",
    "* Our peak age demographic falls between 20-24 (44.8%) with secondary groups falling between 15-19 (18.60%) and 25-29 (13.4%).  \n",
    "-----"
   ]
  },
  {
   "cell_type": "markdown",
   "metadata": {},
   "source": [
    "### Note\n",
    "* Instructions have been included for each segment. You do not have to follow them exactly, but they are included to help you think through the steps."
   ]
  },
  {
   "cell_type": "code",
   "execution_count": 146,
   "metadata": {
    "scrolled": true
   },
   "outputs": [],
   "source": [
    "import pandas as pd\n",
    "import numpy as np\n",
    "\n",
    "file = \"../Downloads/04-Pandas_homework_HeroesOfPymoli_Resources_purchase_data.csv\"\n",
    "\n",
    "purchase_data = pd.read_csv(file)"
   ]
  },
  {
   "cell_type": "markdown",
   "metadata": {},
   "source": [
    "## Player Count"
   ]
  },
  {
   "cell_type": "markdown",
   "metadata": {},
   "source": [
    "* Display the total number of players\n"
   ]
  },
  {
   "cell_type": "code",
   "execution_count": 72,
   "metadata": {},
   "outputs": [
    {
     "data": {
      "text/html": [
       "<div>\n",
       "<style scoped>\n",
       "    .dataframe tbody tr th:only-of-type {\n",
       "        vertical-align: middle;\n",
       "    }\n",
       "\n",
       "    .dataframe tbody tr th {\n",
       "        vertical-align: top;\n",
       "    }\n",
       "\n",
       "    .dataframe thead th {\n",
       "        text-align: right;\n",
       "    }\n",
       "</style>\n",
       "<table border=\"1\" class=\"dataframe\">\n",
       "  <thead>\n",
       "    <tr style=\"text-align: right;\">\n",
       "      <th></th>\n",
       "      <th>Total Players</th>\n",
       "    </tr>\n",
       "  </thead>\n",
       "  <tbody>\n",
       "    <tr>\n",
       "      <th>0</th>\n",
       "      <td>576</td>\n",
       "    </tr>\n",
       "  </tbody>\n",
       "</table>\n",
       "</div>"
      ],
      "text/plain": [
       "   Total Players\n",
       "0            576"
      ]
     },
     "execution_count": 72,
     "metadata": {},
     "output_type": "execute_result"
    }
   ],
   "source": [
    "player_count = len(purchase_data[\"SN\"].value_counts())\n",
    "pd.DataFrame([player_count], columns = [\"Total Players\"])"
   ]
  },
  {
   "cell_type": "markdown",
   "metadata": {},
   "source": [
    "## Purchasing Analysis (Total)"
   ]
  },
  {
   "cell_type": "markdown",
   "metadata": {},
   "source": [
    "* Run basic calculations to obtain number of unique items, average price, etc.\n",
    "\n",
    "\n",
    "* Create a summary data frame to hold the results\n",
    "\n",
    "\n",
    "* Optional: give the displayed data cleaner formatting\n",
    "\n",
    "\n",
    "* Display the summary data frame\n"
   ]
  },
  {
   "cell_type": "code",
   "execution_count": 147,
   "metadata": {
    "scrolled": true
   },
   "outputs": [
    {
     "data": {
      "text/html": [
       "<style  type=\"text/css\" >\n",
       "</style>  \n",
       "<table id=\"T_ba6d3266_c92a_11e8_8626_6c400889f01c\" > \n",
       "<thead>    <tr> \n",
       "        <th class=\"blank level0\" ></th> \n",
       "        <th class=\"col_heading level0 col0\" >Number of Unique Items</th> \n",
       "        <th class=\"col_heading level0 col1\" >Average Price</th> \n",
       "        <th class=\"col_heading level0 col2\" >Number of Purchases</th> \n",
       "        <th class=\"col_heading level0 col3\" >Total Revenue</th> \n",
       "    </tr></thead> \n",
       "<tbody>    <tr> \n",
       "        <th id=\"T_ba6d3266_c92a_11e8_8626_6c400889f01clevel0_row0\" class=\"row_heading level0 row0\" >0</th> \n",
       "        <td id=\"T_ba6d3266_c92a_11e8_8626_6c400889f01crow0_col0\" class=\"data row0 col0\" >183</td> \n",
       "        <td id=\"T_ba6d3266_c92a_11e8_8626_6c400889f01crow0_col1\" class=\"data row0 col1\" >$3.05</td> \n",
       "        <td id=\"T_ba6d3266_c92a_11e8_8626_6c400889f01crow0_col2\" class=\"data row0 col2\" >780</td> \n",
       "        <td id=\"T_ba6d3266_c92a_11e8_8626_6c400889f01crow0_col3\" class=\"data row0 col3\" >$2379.77</td> \n",
       "    </tr></tbody> \n",
       "</table> "
      ],
      "text/plain": [
       "<pandas.io.formats.style.Styler at 0x118fb9050>"
      ]
     },
     "execution_count": 147,
     "metadata": {},
     "output_type": "execute_result"
    }
   ],
   "source": [
    "total_unique_items = purchase_data['Item ID'].nunique()\n",
    "average_price = (purchase_data['Price'].sum()/purchase_data['Price'].count()).round(2)\n",
    "total_purchases = purchase_data['Price'].count()\n",
    "total_revenue = purchase_data[\"Price\"].sum()\n",
    "\n",
    "total_analysis = pd.DataFrame({\"Number of Unique Items\": [total_unique_items], \n",
    "                                  \"Average Price\": [average_price],\n",
    "                                  \"Number of Purchases\": [total_purchases],\n",
    "                                  \"Total Revenue\": [total_revenue]}, \n",
    "                                  columns= [\"Number of Unique Items\", \n",
    "                                            \"Average Price\",\n",
    "                                            \"Number of Purchases\", \n",
    "                                            \"Total Revenue\"])\n",
    "total_analysis.style.format({\"Average Price\": \"${:.2f}\", \n",
    "                                \"Total Revenue\": \"${:.2f}\"})"
   ]
  },
  {
   "cell_type": "markdown",
   "metadata": {},
   "source": [
    "## Gender Demographics"
   ]
  },
  {
   "cell_type": "markdown",
   "metadata": {},
   "source": [
    "* Percentage and Count of Male Players\n",
    "\n",
    "\n",
    "* Percentage and Count of Female Players\n",
    "\n",
    "\n",
    "* Percentage and Count of Other / Non-Disclosed\n",
    "\n",
    "\n"
   ]
  },
  {
   "cell_type": "code",
   "execution_count": 129,
   "metadata": {},
   "outputs": [
    {
     "data": {
      "text/html": [
       "<div>\n",
       "<style scoped>\n",
       "    .dataframe tbody tr th:only-of-type {\n",
       "        vertical-align: middle;\n",
       "    }\n",
       "\n",
       "    .dataframe tbody tr th {\n",
       "        vertical-align: top;\n",
       "    }\n",
       "\n",
       "    .dataframe thead th {\n",
       "        text-align: right;\n",
       "    }\n",
       "</style>\n",
       "<table border=\"1\" class=\"dataframe\">\n",
       "  <thead>\n",
       "    <tr style=\"text-align: right;\">\n",
       "      <th></th>\n",
       "      <th>Percentage of Players</th>\n",
       "      <th>Total Count</th>\n",
       "    </tr>\n",
       "    <tr>\n",
       "      <th>Gender</th>\n",
       "      <th></th>\n",
       "      <th></th>\n",
       "    </tr>\n",
       "  </thead>\n",
       "  <tbody>\n",
       "    <tr>\n",
       "      <th>Male</th>\n",
       "      <td>84.03%</td>\n",
       "      <td>484</td>\n",
       "    </tr>\n",
       "    <tr>\n",
       "      <th>Female</th>\n",
       "      <td>14.06%</td>\n",
       "      <td>81</td>\n",
       "    </tr>\n",
       "    <tr>\n",
       "      <th>Other / Non-Disclosed</th>\n",
       "      <td>1.91%</td>\n",
       "      <td>11</td>\n",
       "    </tr>\n",
       "  </tbody>\n",
       "</table>\n",
       "</div>"
      ],
      "text/plain": [
       "                      Percentage of Players  Total Count\n",
       "Gender                                                  \n",
       "Male                                 84.03%          484\n",
       "Female                               14.06%           81\n",
       "Other / Non-Disclosed                 1.91%           11"
      ]
     },
     "execution_count": 129,
     "metadata": {},
     "output_type": "execute_result"
    }
   ],
   "source": [
    "gender_groupby = purchase_data.groupby('Gender')['SN'].nunique().reset_index()\n",
    "gender_groupby['Percentage of Players'] = 100 * gender_groupby['SN']/gender_groupby['SN'].sum()\n",
    "gender_summary = gender_groupby[['Gender', 'Percentage of Players','SN' ]].sort_values(['Percentage of Players'],ascending = False)\n",
    "gender_summary = gender_summary.reset_index(drop=True)\n",
    "\n",
    "gender_summary['Percentage of Players'] = gender_summary['Percentage of Players'].map(\"{:.2f}%\".format)\n",
    "\n",
    "gender_demos_summary = gender_summary.set_index('Gender')\n",
    "gender_demos_summary = gender_demos_summary.rename(columns = {'SN': 'Total Count'})\n",
    "gender_demos_summary"
   ]
  },
  {
   "cell_type": "markdown",
   "metadata": {},
   "source": [
    "\n",
    "## Purchasing Analysis (Gender)"
   ]
  },
  {
   "cell_type": "markdown",
   "metadata": {},
   "source": [
    "* Run basic calculations to obtain purchase count, avg. purchase price, avg. purchase total per person etc. by gender\n",
    "\n",
    "\n",
    "\n",
    "\n",
    "* Create a summary data frame to hold the results\n",
    "\n",
    "\n",
    "* Optional: give the displayed data cleaner formatting\n",
    "\n",
    "\n",
    "* Display the summary data frame"
   ]
  },
  {
   "cell_type": "code",
   "execution_count": 114,
   "metadata": {},
   "outputs": [
    {
     "data": {
      "text/html": [
       "<style  type=\"text/css\" >\n",
       "</style>  \n",
       "<table id=\"T_adb1b247_c921_11e8_82af_6c400889f01c\" > \n",
       "<thead>    <tr> \n",
       "        <th class=\"blank level0\" ></th> \n",
       "        <th class=\"col_heading level0 col0\" >Purchase Count</th> \n",
       "        <th class=\"col_heading level0 col1\" >Average Purchase Price</th> \n",
       "        <th class=\"col_heading level0 col2\" >Total Purchase Value</th> \n",
       "        <th class=\"col_heading level0 col3\" >Avg Total Purchases per Person</th> \n",
       "    </tr>    <tr> \n",
       "        <th class=\"index_name level0\" >Gender</th> \n",
       "        <th class=\"blank\" ></th> \n",
       "        <th class=\"blank\" ></th> \n",
       "        <th class=\"blank\" ></th> \n",
       "        <th class=\"blank\" ></th> \n",
       "    </tr></thead> \n",
       "<tbody>    <tr> \n",
       "        <th id=\"T_adb1b247_c921_11e8_82af_6c400889f01clevel0_row0\" class=\"row_heading level0 row0\" >Male</th> \n",
       "        <td id=\"T_adb1b247_c921_11e8_82af_6c400889f01crow0_col0\" class=\"data row0 col0\" >652</td> \n",
       "        <td id=\"T_adb1b247_c921_11e8_82af_6c400889f01crow0_col1\" class=\"data row0 col1\" >$3.02</td> \n",
       "        <td id=\"T_adb1b247_c921_11e8_82af_6c400889f01crow0_col2\" class=\"data row0 col2\" >$1967.64</td> \n",
       "        <td id=\"T_adb1b247_c921_11e8_82af_6c400889f01crow0_col3\" class=\"data row0 col3\" >$4.07</td> \n",
       "    </tr>    <tr> \n",
       "        <th id=\"T_adb1b247_c921_11e8_82af_6c400889f01clevel0_row1\" class=\"row_heading level0 row1\" >Female</th> \n",
       "        <td id=\"T_adb1b247_c921_11e8_82af_6c400889f01crow1_col0\" class=\"data row1 col0\" >113</td> \n",
       "        <td id=\"T_adb1b247_c921_11e8_82af_6c400889f01crow1_col1\" class=\"data row1 col1\" >$3.20</td> \n",
       "        <td id=\"T_adb1b247_c921_11e8_82af_6c400889f01crow1_col2\" class=\"data row1 col2\" >$361.94</td> \n",
       "        <td id=\"T_adb1b247_c921_11e8_82af_6c400889f01crow1_col3\" class=\"data row1 col3\" >$4.47</td> \n",
       "    </tr>    <tr> \n",
       "        <th id=\"T_adb1b247_c921_11e8_82af_6c400889f01clevel0_row2\" class=\"row_heading level0 row2\" >Other / Non-Disclosed</th> \n",
       "        <td id=\"T_adb1b247_c921_11e8_82af_6c400889f01crow2_col0\" class=\"data row2 col0\" >15</td> \n",
       "        <td id=\"T_adb1b247_c921_11e8_82af_6c400889f01crow2_col1\" class=\"data row2 col1\" >$3.35</td> \n",
       "        <td id=\"T_adb1b247_c921_11e8_82af_6c400889f01crow2_col2\" class=\"data row2 col2\" >$50.19</td> \n",
       "        <td id=\"T_adb1b247_c921_11e8_82af_6c400889f01crow2_col3\" class=\"data row2 col3\" >$4.56</td> \n",
       "    </tr></tbody> \n",
       "</table> "
      ],
      "text/plain": [
       "<pandas.io.formats.style.Styler at 0x118e36f90>"
      ]
     },
     "execution_count": 114,
     "metadata": {},
     "output_type": "execute_result"
    }
   ],
   "source": [
    "male_purchases = purchase_data[purchase_data[\"Gender\"] == \"Male\"][\"Price\"].count()\n",
    "female_purchases = purchase_data[purchase_data[\"Gender\"] == \"Female\"][\"Price\"].count()\n",
    "other_purchases = total_purchases - male_purchases - female_purchases\n",
    "male_price_avg = purchase_data[purchase_data[\"Gender\"] == \"Male\"]['Price'].mean()\n",
    "female_price_avg = purchase_data[purchase_data[\"Gender\"] == \"Female\"]['Price'].mean()\n",
    "other_price_avg = purchase_data[purchase_data[\"Gender\"] == \"Other / Non-Disclosed\"]['Price'].mean()\n",
    "male_price_total = purchase_data[purchase_data[\"Gender\"] == \"Male\"]['Price'].sum()\n",
    "female_price_total = purchase_data[purchase_data[\"Gender\"] == \"Female\"]['Price'].sum()\n",
    "other_price_total = purchase_data[purchase_data[\"Gender\"] == \"Other / Non-Disclosed\"]['Price'].sum()\n",
    "total_male_avg = male_price_total/malecount\n",
    "total_female_avg = female_price_total/femalecount\n",
    "total_other_avg = other_price_total/othercount\n",
    "\n",
    "gender_purchase_df = pd.DataFrame({\"Gender\": [\"Male\", \"Female\", \"Other / Non-Disclosed\"], \n",
    "                                   \"Purchase Count\": [male_purchases, \n",
    "                                                      female_purchases, \n",
    "                                                      other_purchases],\n",
    "                                   \"Average Purchase Price\": [male_price_avg, \n",
    "                                                              female_price_avg, \n",
    "                                                              other_price_avg], \n",
    "                                   \"Total Purchase Value\": [male_price_total, \n",
    "                                                            female_price_total, \n",
    "                                                            other_price_total],\n",
    "                                   \"Avg Total Purchases per Person\": [total_male_avg, \n",
    "                                                                      total_female_avg, \n",
    "                                                                      total_other_avg]}, \n",
    "                                    columns = \n",
    "                                        [\"Gender\", \n",
    "                                         \"Purchase Count\", \n",
    "                                         \"Average Purchase Price\", \n",
    "                                         \"Total Purchase Value\", \n",
    "                                         \"Avg Total Purchases per Person\"])\n",
    "                                        \n",
    "gender_purchase_final = gender_purchase_df.set_index(\"Gender\")\n",
    "gender_purchase_final.style.format({\"Average Purchase Price\": \"${:.2f}\", \n",
    "                                    \"Total Purchase Value\": \"${:.2f}\", \n",
    "                                    \"Avg Total Purchases per Person\": \"${:.2f}\"})"
   ]
  },
  {
   "cell_type": "markdown",
   "metadata": {},
   "source": [
    "## Age Demographics"
   ]
  },
  {
   "cell_type": "markdown",
   "metadata": {},
   "source": [
    "* Establish bins for ages\n",
    "\n",
    "\n",
    "* Categorize the existing players using the age bins. Hint: use pd.cut()\n",
    "\n",
    "\n",
    "* Calculate the numbers and percentages by age group\n",
    "\n",
    "\n",
    "* Create a summary data frame to hold the results\n",
    "\n",
    "\n",
    "* Optional: round the percentage column to two decimal points\n",
    "\n",
    "\n",
    "* Display Age Demographics Table\n"
   ]
  },
  {
   "cell_type": "code",
   "execution_count": 145,
   "metadata": {},
   "outputs": [
    {
     "data": {
      "text/html": [
       "<div>\n",
       "<style scoped>\n",
       "    .dataframe tbody tr th:only-of-type {\n",
       "        vertical-align: middle;\n",
       "    }\n",
       "\n",
       "    .dataframe tbody tr th {\n",
       "        vertical-align: top;\n",
       "    }\n",
       "\n",
       "    .dataframe thead th {\n",
       "        text-align: right;\n",
       "    }\n",
       "</style>\n",
       "<table border=\"1\" class=\"dataframe\">\n",
       "  <thead>\n",
       "    <tr style=\"text-align: right;\">\n",
       "      <th></th>\n",
       "      <th>Percentage of Players</th>\n",
       "      <th>Total Count</th>\n",
       "    </tr>\n",
       "    <tr>\n",
       "      <th>Age Groups</th>\n",
       "      <th></th>\n",
       "      <th></th>\n",
       "    </tr>\n",
       "  </thead>\n",
       "  <tbody>\n",
       "    <tr>\n",
       "      <th>Under 10</th>\n",
       "      <td>4.10%</td>\n",
       "      <td>32</td>\n",
       "    </tr>\n",
       "    <tr>\n",
       "      <th>10 - 14</th>\n",
       "      <td>6.92%</td>\n",
       "      <td>54</td>\n",
       "    </tr>\n",
       "    <tr>\n",
       "      <th>15 - 19</th>\n",
       "      <td>25.64%</td>\n",
       "      <td>200</td>\n",
       "    </tr>\n",
       "    <tr>\n",
       "      <th>20 - 24</th>\n",
       "      <td>41.67%</td>\n",
       "      <td>325</td>\n",
       "    </tr>\n",
       "    <tr>\n",
       "      <th>25 - 29</th>\n",
       "      <td>9.87%</td>\n",
       "      <td>77</td>\n",
       "    </tr>\n",
       "    <tr>\n",
       "      <th>30 - 34</th>\n",
       "      <td>6.67%</td>\n",
       "      <td>52</td>\n",
       "    </tr>\n",
       "    <tr>\n",
       "      <th>35 - 39</th>\n",
       "      <td>4.23%</td>\n",
       "      <td>33</td>\n",
       "    </tr>\n",
       "    <tr>\n",
       "      <th>Over 40</th>\n",
       "      <td>0.90%</td>\n",
       "      <td>7</td>\n",
       "    </tr>\n",
       "  </tbody>\n",
       "</table>\n",
       "</div>"
      ],
      "text/plain": [
       "           Percentage of Players  Total Count\n",
       "Age Groups                                   \n",
       "Under 10                   4.10%           32\n",
       "10 - 14                    6.92%           54\n",
       "15 - 19                   25.64%          200\n",
       "20 - 24                   41.67%          325\n",
       "25 - 29                    9.87%           77\n",
       "30 - 34                    6.67%           52\n",
       "35 - 39                    4.23%           33\n",
       "Over 40                    0.90%            7"
      ]
     },
     "execution_count": 145,
     "metadata": {},
     "output_type": "execute_result"
    }
   ],
   "source": [
    "bins = [0,10,15,20,25,30,35,40,200]\n",
    "bin_names = ['Under 10', \n",
    "             '10 - 14', \n",
    "             '15 - 19', \n",
    "             '20 - 24', \n",
    "             '25 - 29', \n",
    "             '30 - 34', \n",
    "             '35 - 39', \n",
    "             'Over 40']\n",
    "\n",
    "binner = purchase_data.copy()\n",
    "binner[\"Age Groups\"] = pd.cut(binner[\"Age\"], bins, labels=bin_names)\n",
    "group_bin = binner.groupby([\"Age Groups\"])\n",
    "\n",
    "binner_count = group_bin[\"SN\"].count()\n",
    "count_total = purchase_data[\"SN\"].count()\n",
    "percentage = (binner_count / count_total) * 100\n",
    "percentage\n",
    "\n",
    "age_percentage = pd.DataFrame({\"Total Count\": binner_count,\n",
    "                               \"Percentage of Players\": percentage})\n",
    "\n",
    "age_percentage[\"Percentage of Players\"] = age_percentage[\"Percentage of Players\"].map(\"{:.2f}%\".format)\n",
    "age_percentage.head(10)"
   ]
  },
  {
   "cell_type": "markdown",
   "metadata": {},
   "source": [
    "## Purchasing Analysis (Age)"
   ]
  },
  {
   "cell_type": "markdown",
   "metadata": {},
   "source": [
    "* Bin the purchase_data data frame by age\n",
    "\n",
    "\n",
    "* Run basic calculations to obtain purchase count, avg. purchase price, avg. purchase total per person etc. in the table below\n",
    "\n",
    "\n",
    "* Create a summary data frame to hold the results\n",
    "\n",
    "\n",
    "* Optional: give the displayed data cleaner formatting\n",
    "\n",
    "\n",
    "* Display the summary data frame"
   ]
  },
  {
   "cell_type": "code",
   "execution_count": 144,
   "metadata": {},
   "outputs": [
    {
     "data": {
      "text/html": [
       "<style  type=\"text/css\" >\n",
       "</style>  \n",
       "<table id=\"T_be2855f3_c925_11e8_961d_6c400889f01c\" > \n",
       "<thead>    <tr> \n",
       "        <th class=\"blank level0\" ></th> \n",
       "        <th class=\"col_heading level0 col0\" >Purchase Count</th> \n",
       "        <th class=\"col_heading level0 col1\" >Average Purchase Price</th> \n",
       "        <th class=\"col_heading level0 col2\" >Total Purchase Value</th> \n",
       "        <th class=\"col_heading level0 col3\" >Avg Total Purchase per Person</th> \n",
       "    </tr></thead> \n",
       "<tbody>    <tr> \n",
       "        <th id=\"T_be2855f3_c925_11e8_961d_6c400889f01clevel0_row0\" class=\"row_heading level0 row0\" ><10</th> \n",
       "        <td id=\"T_be2855f3_c925_11e8_961d_6c400889f01crow0_col0\" class=\"data row0 col0\" >23</td> \n",
       "        <td id=\"T_be2855f3_c925_11e8_961d_6c400889f01crow0_col1\" class=\"data row0 col1\" >$3.35</td> \n",
       "        <td id=\"T_be2855f3_c925_11e8_961d_6c400889f01crow0_col2\" class=\"data row0 col2\" >$77.13</td> \n",
       "        <td id=\"T_be2855f3_c925_11e8_961d_6c400889f01crow0_col3\" class=\"data row0 col3\" >$4.54</td> \n",
       "    </tr>    <tr> \n",
       "        <th id=\"T_be2855f3_c925_11e8_961d_6c400889f01clevel0_row1\" class=\"row_heading level0 row1\" >10-14</th> \n",
       "        <td id=\"T_be2855f3_c925_11e8_961d_6c400889f01crow1_col0\" class=\"data row1 col0\" >28</td> \n",
       "        <td id=\"T_be2855f3_c925_11e8_961d_6c400889f01crow1_col1\" class=\"data row1 col1\" >$2.96</td> \n",
       "        <td id=\"T_be2855f3_c925_11e8_961d_6c400889f01crow1_col2\" class=\"data row1 col2\" >$82.78</td> \n",
       "        <td id=\"T_be2855f3_c925_11e8_961d_6c400889f01crow1_col3\" class=\"data row1 col3\" >$3.76</td> \n",
       "    </tr>    <tr> \n",
       "        <th id=\"T_be2855f3_c925_11e8_961d_6c400889f01clevel0_row2\" class=\"row_heading level0 row2\" >15-19</th> \n",
       "        <td id=\"T_be2855f3_c925_11e8_961d_6c400889f01crow2_col0\" class=\"data row2 col0\" >136</td> \n",
       "        <td id=\"T_be2855f3_c925_11e8_961d_6c400889f01crow2_col1\" class=\"data row2 col1\" >$3.04</td> \n",
       "        <td id=\"T_be2855f3_c925_11e8_961d_6c400889f01crow2_col2\" class=\"data row2 col2\" >$412.89</td> \n",
       "        <td id=\"T_be2855f3_c925_11e8_961d_6c400889f01crow2_col3\" class=\"data row2 col3\" >$3.86</td> \n",
       "    </tr>    <tr> \n",
       "        <th id=\"T_be2855f3_c925_11e8_961d_6c400889f01clevel0_row3\" class=\"row_heading level0 row3\" >20-24</th> \n",
       "        <td id=\"T_be2855f3_c925_11e8_961d_6c400889f01crow3_col0\" class=\"data row3 col0\" >365</td> \n",
       "        <td id=\"T_be2855f3_c925_11e8_961d_6c400889f01crow3_col1\" class=\"data row3 col1\" >$3.05</td> \n",
       "        <td id=\"T_be2855f3_c925_11e8_961d_6c400889f01crow3_col2\" class=\"data row3 col2\" >$1114.06</td> \n",
       "        <td id=\"T_be2855f3_c925_11e8_961d_6c400889f01crow3_col3\" class=\"data row3 col3\" >$4.32</td> \n",
       "    </tr>    <tr> \n",
       "        <th id=\"T_be2855f3_c925_11e8_961d_6c400889f01clevel0_row4\" class=\"row_heading level0 row4\" >25-29</th> \n",
       "        <td id=\"T_be2855f3_c925_11e8_961d_6c400889f01crow4_col0\" class=\"data row4 col0\" >101</td> \n",
       "        <td id=\"T_be2855f3_c925_11e8_961d_6c400889f01crow4_col1\" class=\"data row4 col1\" >$2.90</td> \n",
       "        <td id=\"T_be2855f3_c925_11e8_961d_6c400889f01crow4_col2\" class=\"data row4 col2\" >$293.00</td> \n",
       "        <td id=\"T_be2855f3_c925_11e8_961d_6c400889f01crow4_col3\" class=\"data row4 col3\" >$3.81</td> \n",
       "    </tr>    <tr> \n",
       "        <th id=\"T_be2855f3_c925_11e8_961d_6c400889f01clevel0_row5\" class=\"row_heading level0 row5\" >30-34</th> \n",
       "        <td id=\"T_be2855f3_c925_11e8_961d_6c400889f01crow5_col0\" class=\"data row5 col0\" >73</td> \n",
       "        <td id=\"T_be2855f3_c925_11e8_961d_6c400889f01crow5_col1\" class=\"data row5 col1\" >$2.93</td> \n",
       "        <td id=\"T_be2855f3_c925_11e8_961d_6c400889f01crow5_col2\" class=\"data row5 col2\" >$214.00</td> \n",
       "        <td id=\"T_be2855f3_c925_11e8_961d_6c400889f01crow5_col3\" class=\"data row5 col3\" >$4.12</td> \n",
       "    </tr>    <tr> \n",
       "        <th id=\"T_be2855f3_c925_11e8_961d_6c400889f01clevel0_row6\" class=\"row_heading level0 row6\" >34-39</th> \n",
       "        <td id=\"T_be2855f3_c925_11e8_961d_6c400889f01crow6_col0\" class=\"data row6 col0\" >41</td> \n",
       "        <td id=\"T_be2855f3_c925_11e8_961d_6c400889f01crow6_col1\" class=\"data row6 col1\" >$3.60</td> \n",
       "        <td id=\"T_be2855f3_c925_11e8_961d_6c400889f01crow6_col2\" class=\"data row6 col2\" >$147.67</td> \n",
       "        <td id=\"T_be2855f3_c925_11e8_961d_6c400889f01crow6_col3\" class=\"data row6 col3\" >$4.76</td> \n",
       "    </tr>    <tr> \n",
       "        <th id=\"T_be2855f3_c925_11e8_961d_6c400889f01clevel0_row7\" class=\"row_heading level0 row7\" >40+</th> \n",
       "        <td id=\"T_be2855f3_c925_11e8_961d_6c400889f01crow7_col0\" class=\"data row7 col0\" >13</td> \n",
       "        <td id=\"T_be2855f3_c925_11e8_961d_6c400889f01crow7_col1\" class=\"data row7 col1\" >$2.94</td> \n",
       "        <td id=\"T_be2855f3_c925_11e8_961d_6c400889f01crow7_col2\" class=\"data row7 col2\" >$38.24</td> \n",
       "        <td id=\"T_be2855f3_c925_11e8_961d_6c400889f01crow7_col3\" class=\"data row7 col3\" >$3.19</td> \n",
       "    </tr></tbody> \n",
       "</table> "
      ],
      "text/plain": [
       "<pandas.io.formats.style.Styler at 0x1191a9190>"
      ]
     },
     "execution_count": 144,
     "metadata": {},
     "output_type": "execute_result"
    }
   ],
   "source": [
    "purchase_0_10 = purchase_data[purchase_data[\"Age\"] < 10].count()[0]\n",
    "purchase_11_14 = purchase_data[(purchase_data[\"Age\"] >= 10) & (purchase_data[\"Age\"] <= 14)].count()[0]\n",
    "purchase_15_19 = purchase_data[(purchase_data[\"Age\"] >= 15) & (purchase_data[\"Age\"] <= 19)].count()[0]\n",
    "purchase_20_24 = purchase_data[(purchase_data[\"Age\"] >= 20) & (purchase_data[\"Age\"] <= 24)].count()[0]\n",
    "purchase_25_29 = purchase_data[(purchase_data[\"Age\"] >= 25) & (purchase_data[\"Age\"] <= 29)].count()[0]\n",
    "purchase_30_34 = purchase_data[(purchase_data[\"Age\"] >= 30) & (purchase_data[\"Age\"] <= 34)].count()[0]\n",
    "purchase_35_39 = purchase_data[(purchase_data[\"Age\"] >= 35) & (purchase_data[\"Age\"] <= 39)].count()[0]\n",
    "purchase_40 = purchase_data[purchase_data[\"Age\"] >= 40].count()[0]\n",
    "purchases_a = [purchase_0_10, \n",
    "               purchase_11_14, \n",
    "               purchase_15_19, \n",
    "               purchase_20_24, \n",
    "               purchase_25_29, \n",
    "               purchase_30_34, \n",
    "               purchase_35_39, \n",
    "               purchase_40]\n",
    "\n",
    "total_0_10 = purchase_data.loc[purchase_data['Age'] < 10, 'Price'].sum()\n",
    "total_11_14 = purchase_data.loc[(purchase_data['Age'] >= 10) & (purchase_data['Age'] <=14), 'Price'].sum()\n",
    "total_15_19 = purchase_data.loc[(purchase_data['Age'] >= 15) & (purchase_data['Age'] <=19), 'Price'].sum()\n",
    "total_20_24 = purchase_data.loc[(purchase_data['Age'] >= 20) & (purchase_data['Age'] <=24), 'Price'].sum()\n",
    "total_25_29 = purchase_data.loc[(purchase_data['Age'] >= 25) & (purchase_data['Age'] <=29), 'Price'].sum()\n",
    "total_30_34 = purchase_data.loc[(purchase_data['Age'] >= 30) & (purchase_data['Age'] <=34), 'Price'].sum()\n",
    "total_35_39 = purchase_data.loc[(purchase_data['Age'] >= 35) & (purchase_data['Age'] <=39), 'Price'].sum()\n",
    "total_40 = purchase_data.loc[purchase_data['Age'] >= 40, 'Price'].sum()\n",
    "totals_a = [total_0_10, \n",
    "            total_11_14, \n",
    "            total_15_19, \n",
    "            total_20_24, \n",
    "            total_25_29, \n",
    "            total_30_34, \n",
    "            total_35_39, \n",
    "            total_40]\n",
    "\n",
    "avg_price_a = [total_0_10/purchase_0_10, \n",
    "               total_11_14/purchase_11_14, \n",
    "               total_15_19/purchase_15_19, \n",
    "               total_20_24/purchase_20_24, \n",
    "               total_25_29/purchase_25_29,\n",
    "               total_30_34/purchase_30_34, \n",
    "               total_35_39/purchase_35_39, \n",
    "               total_40/purchase_40]\n",
    "\n",
    "avg_per_person_a = [total_0_10/age_10, \n",
    "                    total_11_14/age_14, \n",
    "                    total_15_19/age_19, \n",
    "                    total_20_24/age_24, \n",
    "                    total_25_29/age_29, \n",
    "                    total_30_34/age_34,\n",
    "                    total_35_39/age_39, \n",
    "                    total_40/age_40]\n",
    "\n",
    "puchase_analysis_a = {\"Purchase Count\": purchases_a,\n",
    "                      \"Average Purchase Price\": avg_price_a,\n",
    "                      \"Total Purchase Value\": totals_a,\n",
    "                      \"Avg Total Purchase per Person\": avg_per_person_a\n",
    "}\n",
    "\n",
    "purchase_analysis_a_df = pd.DataFrame(puchase_analysis_a)\n",
    "purchase_analysis_a_df = purchase_analysis_a_df[['Purchase Count', \n",
    "                                                 'Average Purchase Price', \n",
    "                                                 'Total Purchase Value',\n",
    "                                                 'Avg Total Purchase per Person']]\n",
    "purchase_analysis_a_df.index = ([\"<10\", \n",
    "                                 \"10-14\",\n",
    "                                 \"15-19\",\n",
    "                                 \"20-24\",\n",
    "                                 \"25-29\",\n",
    "                                 \"30-34\",\n",
    "                                 \"34-39\",\n",
    "                                 \"40+\"])\n",
    "\n",
    "purchase_analysis_a_df.style.format({\"Average Purchase Price\": \"${:.2f}\", \n",
    "                                     \"Avg Total Purchase per Person\": \"${:.2f}\",\n",
    "                                     \"Total Purchase Value\":\"${:.2f}\"})"
   ]
  },
  {
   "cell_type": "markdown",
   "metadata": {},
   "source": [
    "## Top Spenders"
   ]
  },
  {
   "cell_type": "markdown",
   "metadata": {},
   "source": [
    "* Run basic calculations to obtain the results in the table below\n",
    "\n",
    "\n",
    "* Create a summary data frame to hold the results\n",
    "\n",
    "\n",
    "* Sort the total purchase value column in descending order\n",
    "\n",
    "\n",
    "* Optional: give the displayed data cleaner formatting\n",
    "\n",
    "\n",
    "* Display a preview of the summary data frame\n",
    "\n"
   ]
  },
  {
   "cell_type": "code",
   "execution_count": 137,
   "metadata": {},
   "outputs": [
    {
     "data": {
      "text/html": [
       "<style  type=\"text/css\" >\n",
       "</style>  \n",
       "<table id=\"T_4c4f07d4_c925_11e8_bb66_6c400889f01c\" > \n",
       "<thead>    <tr> \n",
       "        <th class=\"blank level0\" ></th> \n",
       "        <th class=\"col_heading level0 col0\" >Purchase Count</th> \n",
       "        <th class=\"col_heading level0 col1\" >Average Purchase Price</th> \n",
       "        <th class=\"col_heading level0 col2\" >Total Purchase Value</th> \n",
       "    </tr>    <tr> \n",
       "        <th class=\"index_name level0\" >SN</th> \n",
       "        <th class=\"blank\" ></th> \n",
       "        <th class=\"blank\" ></th> \n",
       "        <th class=\"blank\" ></th> \n",
       "    </tr></thead> \n",
       "<tbody>    <tr> \n",
       "        <th id=\"T_4c4f07d4_c925_11e8_bb66_6c400889f01clevel0_row0\" class=\"row_heading level0 row0\" >Lisosia93</th> \n",
       "        <td id=\"T_4c4f07d4_c925_11e8_bb66_6c400889f01crow0_col0\" class=\"data row0 col0\" >5</td> \n",
       "        <td id=\"T_4c4f07d4_c925_11e8_bb66_6c400889f01crow0_col1\" class=\"data row0 col1\" >$3.79</td> \n",
       "        <td id=\"T_4c4f07d4_c925_11e8_bb66_6c400889f01crow0_col2\" class=\"data row0 col2\" >$18.96</td> \n",
       "    </tr>    <tr> \n",
       "        <th id=\"T_4c4f07d4_c925_11e8_bb66_6c400889f01clevel0_row1\" class=\"row_heading level0 row1\" >Idastidru52</th> \n",
       "        <td id=\"T_4c4f07d4_c925_11e8_bb66_6c400889f01crow1_col0\" class=\"data row1 col0\" >4</td> \n",
       "        <td id=\"T_4c4f07d4_c925_11e8_bb66_6c400889f01crow1_col1\" class=\"data row1 col1\" >$3.86</td> \n",
       "        <td id=\"T_4c4f07d4_c925_11e8_bb66_6c400889f01crow1_col2\" class=\"data row1 col2\" >$15.45</td> \n",
       "    </tr>    <tr> \n",
       "        <th id=\"T_4c4f07d4_c925_11e8_bb66_6c400889f01clevel0_row2\" class=\"row_heading level0 row2\" >Chamjask73</th> \n",
       "        <td id=\"T_4c4f07d4_c925_11e8_bb66_6c400889f01crow2_col0\" class=\"data row2 col0\" >3</td> \n",
       "        <td id=\"T_4c4f07d4_c925_11e8_bb66_6c400889f01crow2_col1\" class=\"data row2 col1\" >$4.61</td> \n",
       "        <td id=\"T_4c4f07d4_c925_11e8_bb66_6c400889f01crow2_col2\" class=\"data row2 col2\" >$13.83</td> \n",
       "    </tr>    <tr> \n",
       "        <th id=\"T_4c4f07d4_c925_11e8_bb66_6c400889f01clevel0_row3\" class=\"row_heading level0 row3\" >Iral74</th> \n",
       "        <td id=\"T_4c4f07d4_c925_11e8_bb66_6c400889f01crow3_col0\" class=\"data row3 col0\" >4</td> \n",
       "        <td id=\"T_4c4f07d4_c925_11e8_bb66_6c400889f01crow3_col1\" class=\"data row3 col1\" >$3.40</td> \n",
       "        <td id=\"T_4c4f07d4_c925_11e8_bb66_6c400889f01crow3_col2\" class=\"data row3 col2\" >$13.62</td> \n",
       "    </tr>    <tr> \n",
       "        <th id=\"T_4c4f07d4_c925_11e8_bb66_6c400889f01clevel0_row4\" class=\"row_heading level0 row4\" >Iskadarya95</th> \n",
       "        <td id=\"T_4c4f07d4_c925_11e8_bb66_6c400889f01crow4_col0\" class=\"data row4 col0\" >3</td> \n",
       "        <td id=\"T_4c4f07d4_c925_11e8_bb66_6c400889f01crow4_col1\" class=\"data row4 col1\" >$4.37</td> \n",
       "        <td id=\"T_4c4f07d4_c925_11e8_bb66_6c400889f01crow4_col2\" class=\"data row4 col2\" >$13.10</td> \n",
       "    </tr></tbody> \n",
       "</table> "
      ],
      "text/plain": [
       "<pandas.io.formats.style.Styler at 0x118e14650>"
      ]
     },
     "execution_count": 137,
     "metadata": {},
     "output_type": "execute_result"
    }
   ],
   "source": [
    "spender_total_purchase = purchase_data.groupby('SN')['Price'].sum().to_frame()\n",
    "spender_purchase_count = purchase_data.groupby('SN')['Price'].count().to_frame()\n",
    "spender_purchase_avg = purchase_data.groupby('SN')['Price'].mean().to_frame()\n",
    "\n",
    "spender_total_purchase.columns=[\"Total Purchase Value\"]\n",
    "\n",
    "join_one = spender_total_purchase.join(spender_purchase_count, how=\"left\")\n",
    "join_one.columns=[\"Total Purchase Value\", \n",
    "                  \"Purchase Count\"]\n",
    "\n",
    "join_two = join_one.join(spender_purchase_avg, how=\"inner\")\n",
    "join_two.columns=[\"Total Purchase Value\", \n",
    "                  \"Purchase Count\", \n",
    "                  \"Average Purchase Price\"]\n",
    "\n",
    "top_spenders_df = join_two[[\"Purchase Count\", \n",
    "                            \"Average Purchase Price\", \n",
    "                            \"Total Purchase Value\"]]\n",
    "\n",
    "top_spenders_final = top_spenders_df.sort_values('Total Purchase Value', ascending=False).head()\n",
    "top_spenders_final.style.format({\"Average Purchase Price\": \"${:.2f}\", \n",
    "                                 \"Total Purchase Value\": \"${:.2f}\"})"
   ]
  },
  {
   "cell_type": "markdown",
   "metadata": {},
   "source": [
    "## Most Popular Items"
   ]
  },
  {
   "cell_type": "markdown",
   "metadata": {},
   "source": [
    "* Retrieve the Item ID, Item Name, and Item Price columns\n",
    "\n",
    "\n",
    "* Group by Item ID and Item Name. Perform calculations to obtain purchase count, item price, and total purchase value\n",
    "\n",
    "\n",
    "* Create a summary data frame to hold the results\n",
    "\n",
    "\n",
    "* Sort the purchase count column in descending order\n",
    "\n",
    "\n",
    "* Optional: give the displayed data cleaner formatting\n",
    "\n",
    "\n",
    "* Display a preview of the summary data frame\n",
    "\n"
   ]
  },
  {
   "cell_type": "code",
   "execution_count": 142,
   "metadata": {},
   "outputs": [
    {
     "data": {
      "text/html": [
       "<style  type=\"text/css\" >\n",
       "</style>  \n",
       "<table id=\"T_94ce07cf_c925_11e8_96e2_6c400889f01c\" > \n",
       "<thead>    <tr> \n",
       "        <th class=\"blank\" ></th> \n",
       "        <th class=\"blank level0\" ></th> \n",
       "        <th class=\"col_heading level0 col0\" >Purchase Count</th> \n",
       "        <th class=\"col_heading level0 col1\" >Item Price</th> \n",
       "        <th class=\"col_heading level0 col2\" >Total Purchase Value</th> \n",
       "    </tr>    <tr> \n",
       "        <th class=\"index_name level0\" >Item ID</th> \n",
       "        <th class=\"index_name level1\" >Item Name</th> \n",
       "        <th class=\"blank\" ></th> \n",
       "        <th class=\"blank\" ></th> \n",
       "        <th class=\"blank\" ></th> \n",
       "    </tr></thead> \n",
       "<tbody>    <tr> \n",
       "        <th id=\"T_94ce07cf_c925_11e8_96e2_6c400889f01clevel0_row0\" class=\"row_heading level0 row0\" >178</th> \n",
       "        <th id=\"T_94ce07cf_c925_11e8_96e2_6c400889f01clevel1_row0\" class=\"row_heading level1 row0\" >Oathbreaker, Last Hope of the Breaking Storm</th> \n",
       "        <td id=\"T_94ce07cf_c925_11e8_96e2_6c400889f01crow0_col0\" class=\"data row0 col0\" >12</td> \n",
       "        <td id=\"T_94ce07cf_c925_11e8_96e2_6c400889f01crow0_col1\" class=\"data row0 col1\" >$4.23</td> \n",
       "        <td id=\"T_94ce07cf_c925_11e8_96e2_6c400889f01crow0_col2\" class=\"data row0 col2\" >$50.76</td> \n",
       "    </tr>    <tr> \n",
       "        <th id=\"T_94ce07cf_c925_11e8_96e2_6c400889f01clevel0_row1\" class=\"row_heading level0 row1\" >82</th> \n",
       "        <th id=\"T_94ce07cf_c925_11e8_96e2_6c400889f01clevel1_row1\" class=\"row_heading level1 row1\" >Nirvana</th> \n",
       "        <td id=\"T_94ce07cf_c925_11e8_96e2_6c400889f01crow1_col0\" class=\"data row1 col0\" >9</td> \n",
       "        <td id=\"T_94ce07cf_c925_11e8_96e2_6c400889f01crow1_col1\" class=\"data row1 col1\" >$4.90</td> \n",
       "        <td id=\"T_94ce07cf_c925_11e8_96e2_6c400889f01crow1_col2\" class=\"data row1 col2\" >$44.10</td> \n",
       "    </tr>    <tr> \n",
       "        <th id=\"T_94ce07cf_c925_11e8_96e2_6c400889f01clevel0_row2\" class=\"row_heading level0 row2\" >145</th> \n",
       "        <th id=\"T_94ce07cf_c925_11e8_96e2_6c400889f01clevel1_row2\" class=\"row_heading level1 row2\" >Fiery Glass Crusader</th> \n",
       "        <td id=\"T_94ce07cf_c925_11e8_96e2_6c400889f01crow2_col0\" class=\"data row2 col0\" >9</td> \n",
       "        <td id=\"T_94ce07cf_c925_11e8_96e2_6c400889f01crow2_col1\" class=\"data row2 col1\" >$4.58</td> \n",
       "        <td id=\"T_94ce07cf_c925_11e8_96e2_6c400889f01crow2_col2\" class=\"data row2 col2\" >$41.22</td> \n",
       "    </tr>    <tr> \n",
       "        <th id=\"T_94ce07cf_c925_11e8_96e2_6c400889f01clevel0_row3\" class=\"row_heading level0 row3\" >108</th> \n",
       "        <th id=\"T_94ce07cf_c925_11e8_96e2_6c400889f01clevel1_row3\" class=\"row_heading level1 row3\" >Extraction, Quickblade Of Trembling Hands</th> \n",
       "        <td id=\"T_94ce07cf_c925_11e8_96e2_6c400889f01crow3_col0\" class=\"data row3 col0\" >9</td> \n",
       "        <td id=\"T_94ce07cf_c925_11e8_96e2_6c400889f01crow3_col1\" class=\"data row3 col1\" >$3.53</td> \n",
       "        <td id=\"T_94ce07cf_c925_11e8_96e2_6c400889f01crow3_col2\" class=\"data row3 col2\" >$31.77</td> \n",
       "    </tr>    <tr> \n",
       "        <th id=\"T_94ce07cf_c925_11e8_96e2_6c400889f01clevel0_row4\" class=\"row_heading level0 row4\" >103</th> \n",
       "        <th id=\"T_94ce07cf_c925_11e8_96e2_6c400889f01clevel1_row4\" class=\"row_heading level1 row4\" >Singed Scalpel</th> \n",
       "        <td id=\"T_94ce07cf_c925_11e8_96e2_6c400889f01crow4_col0\" class=\"data row4 col0\" >8</td> \n",
       "        <td id=\"T_94ce07cf_c925_11e8_96e2_6c400889f01crow4_col1\" class=\"data row4 col1\" >$4.35</td> \n",
       "        <td id=\"T_94ce07cf_c925_11e8_96e2_6c400889f01crow4_col2\" class=\"data row4 col2\" >$34.80</td> \n",
       "    </tr>    <tr> \n",
       "        <th id=\"T_94ce07cf_c925_11e8_96e2_6c400889f01clevel0_row5\" class=\"row_heading level0 row5\" >60</th> \n",
       "        <th id=\"T_94ce07cf_c925_11e8_96e2_6c400889f01clevel1_row5\" class=\"row_heading level1 row5\" >Wolf</th> \n",
       "        <td id=\"T_94ce07cf_c925_11e8_96e2_6c400889f01crow5_col0\" class=\"data row5 col0\" >8</td> \n",
       "        <td id=\"T_94ce07cf_c925_11e8_96e2_6c400889f01crow5_col1\" class=\"data row5 col1\" >$3.54</td> \n",
       "        <td id=\"T_94ce07cf_c925_11e8_96e2_6c400889f01crow5_col2\" class=\"data row5 col2\" >$28.32</td> \n",
       "    </tr></tbody> \n",
       "</table> "
      ],
      "text/plain": [
       "<pandas.io.formats.style.Styler at 0x119081bd0>"
      ]
     },
     "execution_count": 142,
     "metadata": {},
     "output_type": "execute_result"
    }
   ],
   "source": [
    "prep_one = purchase_data.groupby(\"Item Name\").sum().reset_index()\n",
    "prep_two = purchase_data.groupby(\"Item ID\").sum().reset_index()\n",
    "prep_three = purchase_data.groupby(\"Item Name\").count().reset_index()\n",
    "\n",
    "merge_one = pd.merge(prep_one, prep_two, on=\"Price\")\n",
    "merge_two = pd.merge(prep_three, merge_one, on=\"Item Name\")\n",
    "\n",
    "merge_two[\"Gender\"] = (merge_two[\"Price_y\"]/merge_two[\"Item ID\"]).round(2)\n",
    "\n",
    "merge_two_final = merge_two.rename(columns={\"Age\": \"Purchase Count\", \n",
    "                                            \"Gender\": \"Item Price\", \n",
    "                                            \"Item ID\": \"null\", \n",
    "                                            \"Price_y\": \"Total Purchase Value\", \n",
    "                                            \"Item ID_y\": \"Item ID\"})\n",
    "\n",
    "clean_df = merge_two_final[[\"Item ID\", \n",
    "                            \"Item Name\", \n",
    "                            \"Purchase Count\", \n",
    "                            \"Item Price\", \n",
    "                            \"Total Purchase Value\"]]\n",
    "\n",
    "prep_df = clean_df.set_index(['Item ID', \n",
    "                              'Item Name'])\n",
    "final_df = prep_df.sort_values('Purchase Count', ascending=False).head(6)\n",
    "final_df.style.format({\"Item Price\": \"${:.2f}\", \n",
    "                       \"Total Purchase Value\": \"${:.2f}\"})"
   ]
  },
  {
   "cell_type": "markdown",
   "metadata": {},
   "source": [
    "## Most Profitable Items"
   ]
  },
  {
   "cell_type": "markdown",
   "metadata": {},
   "source": [
    "* Sort the above table by total purchase value in descending order\n",
    "\n",
    "\n",
    "* Optional: give the displayed data cleaner formatting\n",
    "\n",
    "\n",
    "* Display a preview of the data frame\n",
    "\n"
   ]
  },
  {
   "cell_type": "code",
   "execution_count": 139,
   "metadata": {
    "scrolled": true
   },
   "outputs": [
    {
     "data": {
      "text/html": [
       "<style  type=\"text/css\" >\n",
       "</style>  \n",
       "<table id=\"T_4f5ec963_c925_11e8_a1a0_6c400889f01c\" > \n",
       "<thead>    <tr> \n",
       "        <th class=\"blank\" ></th> \n",
       "        <th class=\"blank level0\" ></th> \n",
       "        <th class=\"col_heading level0 col0\" >Purchase Count</th> \n",
       "        <th class=\"col_heading level0 col1\" >Item Price</th> \n",
       "        <th class=\"col_heading level0 col2\" >Total Purchase Value</th> \n",
       "    </tr>    <tr> \n",
       "        <th class=\"index_name level0\" >Item ID</th> \n",
       "        <th class=\"index_name level1\" >Item Name</th> \n",
       "        <th class=\"blank\" ></th> \n",
       "        <th class=\"blank\" ></th> \n",
       "        <th class=\"blank\" ></th> \n",
       "    </tr></thead> \n",
       "<tbody>    <tr> \n",
       "        <th id=\"T_4f5ec963_c925_11e8_a1a0_6c400889f01clevel0_row0\" class=\"row_heading level0 row0\" >178</th> \n",
       "        <th id=\"T_4f5ec963_c925_11e8_a1a0_6c400889f01clevel1_row0\" class=\"row_heading level1 row0\" >Oathbreaker, Last Hope of the Breaking Storm</th> \n",
       "        <td id=\"T_4f5ec963_c925_11e8_a1a0_6c400889f01crow0_col0\" class=\"data row0 col0\" >12</td> \n",
       "        <td id=\"T_4f5ec963_c925_11e8_a1a0_6c400889f01crow0_col1\" class=\"data row0 col1\" >$4.23</td> \n",
       "        <td id=\"T_4f5ec963_c925_11e8_a1a0_6c400889f01crow0_col2\" class=\"data row0 col2\" >$50.76</td> \n",
       "    </tr>    <tr> \n",
       "        <th id=\"T_4f5ec963_c925_11e8_a1a0_6c400889f01clevel0_row1\" class=\"row_heading level0 row1\" >82</th> \n",
       "        <th id=\"T_4f5ec963_c925_11e8_a1a0_6c400889f01clevel1_row1\" class=\"row_heading level1 row1\" >Nirvana</th> \n",
       "        <td id=\"T_4f5ec963_c925_11e8_a1a0_6c400889f01crow1_col0\" class=\"data row1 col0\" >9</td> \n",
       "        <td id=\"T_4f5ec963_c925_11e8_a1a0_6c400889f01crow1_col1\" class=\"data row1 col1\" >$4.90</td> \n",
       "        <td id=\"T_4f5ec963_c925_11e8_a1a0_6c400889f01crow1_col2\" class=\"data row1 col2\" >$44.10</td> \n",
       "    </tr>    <tr> \n",
       "        <th id=\"T_4f5ec963_c925_11e8_a1a0_6c400889f01clevel0_row2\" class=\"row_heading level0 row2\" >145</th> \n",
       "        <th id=\"T_4f5ec963_c925_11e8_a1a0_6c400889f01clevel1_row2\" class=\"row_heading level1 row2\" >Fiery Glass Crusader</th> \n",
       "        <td id=\"T_4f5ec963_c925_11e8_a1a0_6c400889f01crow2_col0\" class=\"data row2 col0\" >9</td> \n",
       "        <td id=\"T_4f5ec963_c925_11e8_a1a0_6c400889f01crow2_col1\" class=\"data row2 col1\" >$4.58</td> \n",
       "        <td id=\"T_4f5ec963_c925_11e8_a1a0_6c400889f01crow2_col2\" class=\"data row2 col2\" >$41.22</td> \n",
       "    </tr>    <tr> \n",
       "        <th id=\"T_4f5ec963_c925_11e8_a1a0_6c400889f01clevel0_row3\" class=\"row_heading level0 row3\" >103</th> \n",
       "        <th id=\"T_4f5ec963_c925_11e8_a1a0_6c400889f01clevel1_row3\" class=\"row_heading level1 row3\" >Singed Scalpel</th> \n",
       "        <td id=\"T_4f5ec963_c925_11e8_a1a0_6c400889f01crow3_col0\" class=\"data row3 col0\" >8</td> \n",
       "        <td id=\"T_4f5ec963_c925_11e8_a1a0_6c400889f01crow3_col1\" class=\"data row3 col1\" >$4.35</td> \n",
       "        <td id=\"T_4f5ec963_c925_11e8_a1a0_6c400889f01crow3_col2\" class=\"data row3 col2\" >$34.80</td> \n",
       "    </tr>    <tr> \n",
       "        <th id=\"T_4f5ec963_c925_11e8_a1a0_6c400889f01clevel0_row4\" class=\"row_heading level0 row4\" >59</th> \n",
       "        <th id=\"T_4f5ec963_c925_11e8_a1a0_6c400889f01clevel1_row4\" class=\"row_heading level1 row4\" >Lightning, Etcher of the King</th> \n",
       "        <td id=\"T_4f5ec963_c925_11e8_a1a0_6c400889f01crow4_col0\" class=\"data row4 col0\" >8</td> \n",
       "        <td id=\"T_4f5ec963_c925_11e8_a1a0_6c400889f01crow4_col1\" class=\"data row4 col1\" >$4.23</td> \n",
       "        <td id=\"T_4f5ec963_c925_11e8_a1a0_6c400889f01crow4_col2\" class=\"data row4 col2\" >$33.84</td> \n",
       "    </tr></tbody> \n",
       "</table> "
      ],
      "text/plain": [
       "<pandas.io.formats.style.Styler at 0x118fb9c50>"
      ]
     },
     "execution_count": 139,
     "metadata": {},
     "output_type": "execute_result"
    }
   ],
   "source": [
    "max_df = prep_df.sort_values('Total Purchase Value', ascending=False).head()\n",
    "max_df.style.format({\"Item Price\": \"${:.2f}\", \n",
    "                     \"Total Purchase Value\": \"${:.2f}\"})"
   ]
  },
  {
   "cell_type": "code",
   "execution_count": null,
   "metadata": {},
   "outputs": [],
   "source": []
  }
 ],
 "metadata": {
  "anaconda-cloud": {},
  "kernel_info": {
   "name": "python3"
  },
  "kernelspec": {
   "display_name": "Python 2",
   "language": "python",
   "name": "python2"
  },
  "language_info": {
   "codemirror_mode": {
    "name": "ipython",
    "version": 2
   },
   "file_extension": ".py",
   "mimetype": "text/x-python",
   "name": "python",
   "nbconvert_exporter": "python",
   "pygments_lexer": "ipython2",
   "version": "2.7.15"
  },
  "nteract": {
   "version": "0.2.0"
  }
 },
 "nbformat": 4,
 "nbformat_minor": 2
}
